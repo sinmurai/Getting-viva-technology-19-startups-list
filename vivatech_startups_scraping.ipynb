{
  "nbformat": 4,
  "nbformat_minor": 0,
  "metadata": {
    "colab": {
      "name": "vivatech_startups_scraping.ipynb",
      "version": "0.3.2",
      "provenance": []
    },
    "kernelspec": {
      "name": "python3",
      "display_name": "Python 3"
    }
  },
  "cells": [
    {
      "metadata": {
        "id": "LZrnNlQgObBI",
        "colab_type": "text"
      },
      "cell_type": "markdown",
      "source": [
        "## **INSTALL on google colaboratory **"
      ]
    },
    {
      "metadata": {
        "id": "Toqyd7J0OMvg",
        "colab_type": "code",
        "colab": {}
      },
      "cell_type": "code",
      "source": [
        "!apt-get update\n",
        "!apt install chromium-chromedriver\n",
        "!cp /usr/lib/chromium-browser/chromedriver /usr/bin\n",
        "!pip install selenium"
      ],
      "execution_count": 0,
      "outputs": []
    },
    {
      "metadata": {
        "id": "QB6f579kPFUz",
        "colab_type": "text"
      },
      "cell_type": "markdown",
      "source": [
        "## **LIBRARY**"
      ]
    },
    {
      "metadata": {
        "id": "4yWvvqyROg2D",
        "colab_type": "code",
        "colab": {}
      },
      "cell_type": "code",
      "source": [
        "from selenium import webdriver\n",
        "from selenium.webdriver.chrome.options import Options\n",
        "from bs4 import BeautifulSoup\n",
        "import time\n",
        "import re\n",
        "import pandas as pd\n",
        "import requests\n",
        "import numpy as np"
      ],
      "execution_count": 0,
      "outputs": []
    },
    {
      "metadata": {
        "id": "D8IH04gRPMVm",
        "colab_type": "text"
      },
      "cell_type": "markdown",
      "source": [
        "## **GET HTML SOURCE**"
      ]
    },
    {
      "metadata": {
        "id": "Zfu8IhMyOsEu",
        "colab_type": "code",
        "colab": {}
      },
      "cell_type": "code",
      "source": [
        "options = webdriver.ChromeOptions()\n",
        "options.add_argument('--headless')\n",
        "options.add_argument('--no-sandbox')\n",
        "options.add_argument('--disable-dev-shm-usage')\n",
        "driver = webdriver.Chrome('chromedriver',options=options)\n",
        "driver.implicitly_wait(10)\n",
        "driver.get(\"https://vivatechnology.com/startups-big-list/\")\n",
        "\n",
        "time.sleep(15)\n",
        "html = driver.page_source.encode('utf-8')\n",
        "soup = BeautifulSoup(html, 'html.parser')\n",
        "driver.close()\n",
        "time.sleep(0.3)"
      ],
      "execution_count": 0,
      "outputs": []
    },
    {
      "metadata": {
        "id": "VBPOhT96PYKZ",
        "colab_type": "text"
      },
      "cell_type": "markdown",
      "source": [
        "## **MAKE A STARTUPS LIST**"
      ]
    },
    {
      "metadata": {
        "id": "F9T_JZIQOvAq",
        "colab_type": "code",
        "colab": {}
      },
      "cell_type": "code",
      "source": [
        "PARAM_INFO = ['company_name','location','resume','tags']\n",
        "\n",
        "temp ={}\n",
        "for param in PARAM_INFO:\n",
        "  temp[param] = []\n",
        "\n",
        "all_info = soup.find_all(\"div\", {\"class\":\"card-over\"})\n",
        "for info in all_info:\n",
        "  event_location = info.find(\"div\", {\"class\":\"event-location\"})\n",
        "  company_name = info.find(\"strong\")\n",
        "  resume_temp = info.find(\"div\", {\"class\":\"resume\"})\n",
        "  tags_temp = info.find(\"div\", {\"class\":\"tags\"})\n",
        "  \n",
        "  if(event_location is None):\n",
        "    temp['location'] = np.hstack((temp['location'],None))\n",
        "  else:\n",
        "    temp['location'] = np.hstack((temp['location'],event_location.find(\"span\").string))\n",
        "    \n",
        "  if(company_name is None):\n",
        "    temp['company_name'] = np.hstack((temp['company_name'],None))\n",
        "    temp['resume'] = np.hstack((temp['resume'],None))\n",
        "    temp['tags'] = np.hstack((temp['tags'],None))\n",
        "  else:\n",
        "    resume = resume_temp.find(\"p\")\n",
        "    tags = tags_temp.find_all(\"span\")\n",
        "    tags_text = ''\n",
        "    for tag in tags:\n",
        "      tags_text = tags_text + tag.string + \", \\n\"\n",
        "    temp['company_name'] = np.hstack((temp['company_name'],company_name.string))\n",
        "    temp['resume'] = np.hstack((temp['resume'],resume.string))\n",
        "    temp['tags'] = np.hstack((temp['tags'],tags_text))\n",
        "\n",
        "df = pd.DataFrame()\n",
        "for param in PARAM_INFO:\n",
        "  df[param] = temp[param]    \n",
        "\n"
      ],
      "execution_count": 0,
      "outputs": []
    },
    {
      "metadata": {
        "id": "nF4W8rzNO_gL",
        "colab_type": "text"
      },
      "cell_type": "markdown",
      "source": [
        "## **DOWNLOAD THE LIST from google colaboratory**"
      ]
    },
    {
      "metadata": {
        "id": "gpWUWxGNO53k",
        "colab_type": "code",
        "colab": {}
      },
      "cell_type": "code",
      "source": [
        "from google.colab import files\n",
        "df.to_csv(\"compay_list_startups.csv\")\n",
        "files.download(\"compay_list_startups.csv\")"
      ],
      "execution_count": 0,
      "outputs": []
    }
  ]
}
